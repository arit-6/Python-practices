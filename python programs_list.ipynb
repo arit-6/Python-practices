{
 "cells": [
  {
   "cell_type": "code",
   "execution_count": 53,
   "metadata": {},
   "outputs": [
    {
     "name": "stdout",
     "output_type": "stream",
     "text": [
      "[6, 2, 3, 4, 5, 1]\n"
     ]
    }
   ],
   "source": [
    "#1\n",
    "\n",
    "\n",
    "def interchange(list):\n",
    "    frst = list[0]\n",
    "    last = list[-1]\n",
    "\n",
    "    list[0] = last\n",
    "    list[-1] = frst\n",
    "\n",
    "    return list\n",
    "\n",
    "\n",
    "print(interchange([1,2,3,4,5,6]))"
   ]
  },
  {
   "cell_type": "code",
   "execution_count": 54,
   "metadata": {},
   "outputs": [
    {
     "name": "stdout",
     "output_type": "stream",
     "text": [
      "[1, 2, 6, 4, 5, 3, 7, 8, 9]\n"
     ]
    }
   ],
   "source": [
    "#2\n",
    "\n",
    "\n",
    "def swap(list, First_element_position, second_element_position):\n",
    "    frst = list[First_element_position - 1]\n",
    "    second = list[second_element_position -1]\n",
    "\n",
    "    list[First_element_position - 1] = second\n",
    "    list[second_element_position -1] = frst\n",
    "\n",
    "    return list\n",
    "\n",
    "list = [1,2,3,4,5,6,7,8,9]\n",
    "\n",
    "print(swap(list=list, First_element_position=3, second_element_position=6))"
   ]
  },
  {
   "cell_type": "code",
   "execution_count": 55,
   "metadata": {},
   "outputs": [
    {
     "name": "stdout",
     "output_type": "stream",
     "text": [
      "8\n"
     ]
    }
   ],
   "source": [
    "#Python program to find largest number in a list\n",
    "\n",
    "def largest(list):\n",
    "    largest_no = 0\n",
    "    for i in list:\n",
    "        if i > largest_no:\n",
    "            largest_no = i\n",
    "    return largest_no \n",
    "\n",
    "print(largest([5,4,6,8,2,4]))       "
   ]
  },
  {
   "cell_type": "code",
   "execution_count": 56,
   "metadata": {},
   "outputs": [
    {
     "name": "stdout",
     "output_type": "stream",
     "text": [
      "1\n"
     ]
    }
   ],
   "source": [
    "##Python program to find smallest number in a list\n",
    "import random\n",
    "\n",
    "def smallest(list):\n",
    "    smallest_no = list[random.randint(0, len(list)-1)]\n",
    "    for n in list:\n",
    "        if n < smallest_no:\n",
    "            smallest_no = n\n",
    "\n",
    "    return smallest_no\n",
    "\n",
    "print(smallest([2,5,6,4,8,7,1,45,2]))        "
   ]
  },
  {
   "cell_type": "code",
   "execution_count": 57,
   "metadata": {},
   "outputs": [
    {
     "name": "stdout",
     "output_type": "stream",
     "text": [
      "24\n",
      "24\n",
      "24\n"
     ]
    }
   ],
   "source": [
    "#Ways to find length of a list\n",
    "\n",
    "list = [1,2,3,4,5,6,7,8,9,10,5,4,8,6,4,8,5,4,11,55,448,55,55,55]\n",
    "\n",
    "print(len(list))\n",
    "\n",
    "var = 0\n",
    "for i in range(len(list)):\n",
    "    var += 1\n",
    "\n",
    "print(var)    \n",
    "\n",
    "index_to_find = list[-1]\n",
    "length = list.index(index_to_find, len(list)-1, len(list)) + 1\n",
    "\n",
    "print(length)"
   ]
  },
  {
   "cell_type": "code",
   "execution_count": 58,
   "metadata": {},
   "outputs": [
    {
     "name": "stdout",
     "output_type": "stream",
     "text": [
      "9\n"
     ]
    }
   ],
   "source": [
    "#Maximum of two numbers\n",
    "\n",
    "def mac(x, y):\n",
    "    if x >y:\n",
    "        return x\n",
    "    else:\n",
    "        return y\n",
    "    \n",
    "\n",
    "\n",
    "print(mac(9,6.5))    "
   ]
  },
  {
   "cell_type": "code",
   "execution_count": 59,
   "metadata": {},
   "outputs": [
    {
     "name": "stdout",
     "output_type": "stream",
     "text": [
      "5\n"
     ]
    }
   ],
   "source": [
    "#Min of two numbers\n",
    "def minc(x, y):\n",
    "    if x < y:\n",
    "        return x\n",
    "    else:\n",
    "        return y\n",
    "\n",
    "print(minc(5.5, 5))"
   ]
  },
  {
   "cell_type": "code",
   "execution_count": 60,
   "metadata": {},
   "outputs": [
    {
     "name": "stdout",
     "output_type": "stream",
     "text": [
      "Exists\n",
      "Doesn't Exists\n"
     ]
    }
   ],
   "source": [
    "#Python | Ways to check if element exists in list\n",
    "\n",
    "def checker(list, element):\n",
    "    exists_value = 0\n",
    "    for i in list:\n",
    "        if i == element:\n",
    "            exists_value += 1\n",
    "    if exists_value >= 1:\n",
    "        return \"Exists\"\n",
    "    else:\n",
    "        return \"Doesn't exists\"    \n",
    "\n",
    "\n",
    "test = [5,66,55,2,11,4,8,5,23,6,5,2,6,5,445555,4,5,2,\"abc\", \"random\", 5, 9, \"something\"]\n",
    "\n",
    "print(checker(test, \"abc\"))\n",
    "\n",
    "\n",
    "def checker_ver_2(list, element):\n",
    "    try:\n",
    "        index_no = list.index(element)\n",
    "        if index_no >= 0:\n",
    "            return \"Exists\"\n",
    "    except ValueError:\n",
    "        return \"Doesn't Exists\"    \n",
    "    \n",
    "\n",
    "\n",
    "print(checker_ver_2(test, 99))    "
   ]
  },
  {
   "cell_type": "code",
   "execution_count": 61,
   "metadata": {},
   "outputs": [
    {
     "name": "stdout",
     "output_type": "stream",
     "text": [
      "[]\n",
      "[]\n"
     ]
    }
   ],
   "source": [
    "#Different ways to clear a list in Python\n",
    "\n",
    "def clear_list(list):\n",
    "    list = []\n",
    "    return list\n",
    "\n",
    "x = [5,6,8,9,7]\n",
    "\n",
    "y = clear_list(x)\n",
    "print(y)\n",
    "\n",
    "x.clear()\n",
    "print(x)"
   ]
  },
  {
   "cell_type": "code",
   "execution_count": 62,
   "metadata": {},
   "outputs": [
    {
     "data": {
      "text/plain": [
       "[9, 9, 8, 4, 66, 8, 5]"
      ]
     },
     "execution_count": 62,
     "metadata": {},
     "output_type": "execute_result"
    }
   ],
   "source": [
    "#Python | Reversing a List\n",
    "\n",
    "x= [5,8,66,4,8,9,9]\n",
    "\n",
    "x[::-1]"
   ]
  },
  {
   "cell_type": "code",
   "execution_count": 63,
   "metadata": {},
   "outputs": [
    {
     "name": "stdout",
     "output_type": "stream",
     "text": [
      "[5, 8, 66, 4, 8, 9, 9]\n"
     ]
    }
   ],
   "source": [
    "#Python | Cloning or Copying a list\n",
    "\n",
    "x= [5,8,66,4,8,9,9]\n",
    "\n",
    "def cloning(list):\n",
    "    cloned_list = [i for i in list]\n",
    "    return cloned_list\n",
    "\n",
    "print(cloning(x))   "
   ]
  },
  {
   "cell_type": "code",
   "execution_count": 64,
   "metadata": {},
   "outputs": [
    {
     "data": {
      "text/plain": [
       "{5: 5, 8: 2, 66: 3, 4: 1, 9: 2, 1: 1, 2: 1, 10: 1}"
      ]
     },
     "execution_count": 64,
     "metadata": {},
     "output_type": "execute_result"
    }
   ],
   "source": [
    "#Python | Count occurrences of an element in a list\n",
    "\n",
    "x= [5,8,66,4,8,9,9,5 ,5,5,5,66,66,1,2,10]\n",
    "\n",
    "def occurences(list):\n",
    "   \n",
    "    keys = []\n",
    "    values = []\n",
    "    for i in list:\n",
    "        if i not in keys:\n",
    "            keys.append(i)\n",
    "\n",
    "    for i in keys:\n",
    "        values.append(list.count(i))      \n",
    "            \n",
    "\n",
    "    dict = {k:v for (k, v) in zip(keys,values)}\n",
    "    return dict\n",
    "\n",
    "occurences(x)"
   ]
  },
  {
   "cell_type": "code",
   "execution_count": 65,
   "metadata": {},
   "outputs": [
    {
     "name": "stdout",
     "output_type": "stream",
     "text": [
      "Sum = 274\n",
      "average = 17.125\n"
     ]
    }
   ],
   "source": [
    "#Python Program to find sum and average of List in Python\n",
    "\n",
    "sum = 0\n",
    "for i in x:\n",
    "    sum += i\n",
    "\n",
    "avg = sum / len(x)\n",
    "\n",
    "\n",
    "\n",
    "print(f\"Sum = {sum}\\naverage = {avg}\")"
   ]
  },
  {
   "cell_type": "code",
   "execution_count": 66,
   "metadata": {},
   "outputs": [
    {
     "data": {
      "text/plain": [
       "[8, 66, 4, 8, 66, 66, 2, 10]"
      ]
     },
     "execution_count": 66,
     "metadata": {},
     "output_type": "execute_result"
    }
   ],
   "source": [
    "#Python program to print even numbers in a list\n",
    "even_numbers = [i for i in x if i % 2 == 0]\n",
    "\n",
    "even_numbers"
   ]
  },
  {
   "cell_type": "code",
   "execution_count": 67,
   "metadata": {},
   "outputs": [
    {
     "data": {
      "text/plain": [
       "[5, 9, 9, 5, 5, 5, 5, 1]"
      ]
     },
     "execution_count": 67,
     "metadata": {},
     "output_type": "execute_result"
    }
   ],
   "source": [
    "#Python program to print odd numbers in a List\n",
    "odd_numbers = [i for i in x if i % 2 != 0]\n",
    "\n",
    "odd_numbers"
   ]
  },
  {
   "cell_type": "code",
   "execution_count": 68,
   "metadata": {},
   "outputs": [
    {
     "data": {
      "text/plain": [
       "[5, 8, 66, 9]"
      ]
     },
     "execution_count": 68,
     "metadata": {},
     "output_type": "execute_result"
    }
   ],
   "source": [
    "#Python | Program to print duplicates from a list of integers\n",
    "def duplicates(list):\n",
    "    duplicate = []\n",
    "    for i in list:\n",
    "        if list.count(i) > 1:\n",
    "            if i not in duplicate:\n",
    "                duplicate.append(i)      \n",
    "    return duplicate\n",
    "\n",
    "duplicates(x)  "
   ]
  },
  {
   "cell_type": "code",
   "execution_count": 69,
   "metadata": {},
   "outputs": [
    {
     "name": "stdout",
     "output_type": "stream",
     "text": [
      "{5: 5, 8: 2, 66: 3, 4: 1, 9: 2, 1: 1, 2: 1, 10: 1}\n"
     ]
    },
    {
     "data": {
      "text/plain": [
       "[5, 66]"
      ]
     },
     "execution_count": 69,
     "metadata": {},
     "output_type": "execute_result"
    }
   ],
   "source": [
    "#Python – Extract elements with Frequency greater than K\n",
    "def greater_than(list, k):\n",
    "    greater = []\n",
    "    for i in list:\n",
    "        if list.count(i) > k:\n",
    "            if i not in greater:\n",
    "                greater.append(i)      \n",
    "    return greater\n",
    "print(occurences(x))\n",
    "greater_than(x, 2)"
   ]
  },
  {
   "cell_type": "code",
   "execution_count": 72,
   "metadata": {},
   "outputs": [
    {
     "data": {
      "text/plain": [
       "9"
      ]
     },
     "execution_count": 72,
     "metadata": {},
     "output_type": "execute_result"
    }
   ],
   "source": [
    "#Python program to check if the list contains three consecutive common numbers\n",
    "x = [5, 8, 66, 4, 8, 9, 9,9, 5, 5, 5, 5, 66, 66, 1, 2, 10, 3, 2,2,2]\n",
    "def consecutive(list):\n",
    "    for i in range(len(list)):\n",
    "        if list[i] == list[i+1] and list[i+1] == list[i+2]:\n",
    "            return list[i]\n",
    "consecutive(x)            \n"
   ]
  },
  {
   "cell_type": "code",
   "execution_count": 75,
   "metadata": {},
   "outputs": [
    {
     "name": "stdout",
     "output_type": "stream",
     "text": [
      "(2, 5, 8)\n",
      "(2, 8, 5)\n",
      "(5, 2, 8)\n",
      "(5, 8, 2)\n",
      "(8, 2, 5)\n",
      "(8, 5, 2)\n"
     ]
    }
   ],
   "source": [
    "#Python Program to print all Possible Combinations from the three Digits\n",
    "\n",
    "from itertools import permutations\n",
    "def combinations(x,y,z):\n",
    "    com = permutations([x,y,z], 3)\n",
    "    for i in com:\n",
    "        print(i)\n",
    "\n",
    "combinations(2,5,8)"
   ]
  },
  {
   "cell_type": "code",
   "execution_count": null,
   "metadata": {},
   "outputs": [],
   "source": []
  }
 ],
 "metadata": {
  "kernelspec": {
   "display_name": "Python 3",
   "language": "python",
   "name": "python3"
  },
  "language_info": {
   "codemirror_mode": {
    "name": "ipython",
    "version": 3
   },
   "file_extension": ".py",
   "mimetype": "text/x-python",
   "name": "python",
   "nbconvert_exporter": "python",
   "pygments_lexer": "ipython3",
   "version": "3.11.4"
  },
  "orig_nbformat": 4
 },
 "nbformat": 4,
 "nbformat_minor": 2
}
